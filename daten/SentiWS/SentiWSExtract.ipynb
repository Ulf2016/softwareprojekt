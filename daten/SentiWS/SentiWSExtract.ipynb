{
 "cells": [
  {
   "cell_type": "code",
<<<<<<< HEAD
   "execution_count": 1,
=======
   "execution_count": 2,
>>>>>>> 14e3492e774944371e48569e2349aafe4a1b9e19
   "metadata": {},
   "outputs": [
    {
     "name": "stdout",
     "output_type": "stream",
     "text": [
<<<<<<< HEAD
      "420\n",
      "708\n"
=======
      "686\n",
      "420\n",
      "708\n",
      "4\n"
>>>>>>> 14e3492e774944371e48569e2349aafe4a1b9e19
     ]
    }
   ],
   "source": [
    "from operator import itemgetter\n",
    "#Extracting Words from SentiWS\n",
    "\n",
<<<<<<< HEAD
    "path = 'SentiWS_v1.8c_Negative.txt'\n",
    "output= 'output/'\n",
=======
    "path = './SentiWS_v1.8c_Negative.txt'\n",
    "output= './output/'\n",
>>>>>>> 14e3492e774944371e48569e2349aafe4a1b9e19
    "\n",
    "def readFile(path):\n",
    "    f = open(path)\n",
    "    d = {}\n",
    "    se = set()\n",
    "    d['NN'] = []\n",
    "    d['ADJX'] = []\n",
    "    d['VVINF'] = []\n",
    "    d['ADV'] = []\n",
    "    lines = f.readlines()\n",
    "    for l in lines:\n",
    "        split = l.split('\\t')\n",
    "        s = split[0].split('|')\n",
    "    \n",
    "        if(s[1] == 'NN'):\n",
    "            d['NN'].append(split)\n",
    "        elif(s[1] == 'ADJX'):\n",
    "            d['ADJX'].append(split)\n",
    "        elif(s[1] == 'VVINF'):\n",
    "            d['VVINF'].append(split)\n",
    "        elif(s[1] == 'ADV'):\n",
    "            d['ADV'].append(split)\n",
    "    f.close()\n",
    "    return d\n",
    "\n",
    "        \n",
    "f = readFile(path)\n",
    "\n",
    "nn_sorted = sorted(f['NN'], key = itemgetter(1), reverse = True)\n",
    "v_sorted = sorted(f['VVINF'], key = itemgetter(1), reverse = True)\n",
    "adj_sorted = sorted(f['ADJX'], key = itemgetter(1), reverse = True)\n",
    "adv_sorted = sorted(f['ADV'], key = itemgetter(1), reverse = True)\n",
    "\n",
<<<<<<< HEAD
    "print(len(v_sorted))\n",
    "print(len(adj_sorted))\n"
=======
    "print(len(nn_sorted))\n",
    "print(len(v_sorted))\n",
    "print(len(adj_sorted))\n",
    "print(len(adv_sorted))"
>>>>>>> 14e3492e774944371e48569e2349aafe4a1b9e19
   ]
  },
  {
   "cell_type": "code",
<<<<<<< HEAD
   "execution_count": 3,
=======
   "execution_count": 7,
>>>>>>> 14e3492e774944371e48569e2349aafe4a1b9e19
   "metadata": {},
   "outputs": [],
   "source": [
    "fw = open(output+'baselist.txt', 'w+')\n",
    "fw2 = open(output+'baselist_unsorted.txt', 'w+')\n",
<<<<<<< HEAD
    "\n",
=======
>>>>>>> 14e3492e774944371e48569e2349aafe4a1b9e19
    "for i in range(len(nn_sorted)):\n",
    "    fw.write(nn_sorted[i][0]+'\\n')\n",
    "    fw2.write(f['NN'][i][0]+'\\n')\n",
    "for i in range(len(v_sorted)):\n",
    "    fw.write(v_sorted[i][0]+'\\n')\n",
    "    fw2.write(f['VVINF'][i][0]+'\\n')\n",
    "for i in range(len(adj_sorted)):\n",
    "    fw.write(adj_sorted[i][0]+'\\n')\n",
    "    fw2.write(f['ADJX'][i][0]+'\\n')\n",
<<<<<<< HEAD
    "               \n",
    "fw.close()\n",
    "fw2.close()\n"
=======
    "fw.close()\n",
    "fw2.close()"
>>>>>>> 14e3492e774944371e48569e2349aafe4a1b9e19
   ]
  },
  {
   "cell_type": "code",
   "execution_count": null,
   "metadata": {},
   "outputs": [],
   "source": []
  }
 ],
 "metadata": {
  "kernelspec": {
   "display_name": "Python 3",
   "language": "python",
   "name": "python3"
  },
  "language_info": {
   "codemirror_mode": {
    "name": "ipython",
    "version": 3
   },
   "file_extension": ".py",
   "mimetype": "text/x-python",
   "name": "python",
   "nbconvert_exporter": "python",
   "pygments_lexer": "ipython3",
   "version": "3.6.5"
  }
 },
 "nbformat": 4,
 "nbformat_minor": 2
}
