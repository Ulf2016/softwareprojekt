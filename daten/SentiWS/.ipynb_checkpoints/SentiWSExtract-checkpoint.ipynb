{
 "cells": [
  {
   "cell_type": "code",
   "execution_count": 1,
   "metadata": {},
   "outputs": [
    {
     "ename": "FileNotFoundError",
     "evalue": "[Errno 2] No such file or directory: '/home/duke/Dropbox/bla/Studium/Softwareprojekt/Resources/SentiWS/SentiWS_v1.8c_Negative.txt'",
     "output_type": "error",
     "traceback": [
      "\u001b[0;31m---------------------------------------------------------------------------\u001b[0m",
      "\u001b[0;31mFileNotFoundError\u001b[0m                         Traceback (most recent call last)",
      "\u001b[0;32m<ipython-input-1-58b5e1b690fc>\u001b[0m in \u001b[0;36m<module>\u001b[0;34m()\u001b[0m\n\u001b[1;32m     30\u001b[0m \u001b[0;34m\u001b[0m\u001b[0m\n\u001b[1;32m     31\u001b[0m \u001b[0;34m\u001b[0m\u001b[0m\n\u001b[0;32m---> 32\u001b[0;31m \u001b[0mf\u001b[0m \u001b[0;34m=\u001b[0m \u001b[0mreadFile\u001b[0m\u001b[0;34m(\u001b[0m\u001b[0mpath\u001b[0m\u001b[0;34m)\u001b[0m\u001b[0;34m\u001b[0m\u001b[0m\n\u001b[0m\u001b[1;32m     33\u001b[0m \u001b[0;34m\u001b[0m\u001b[0m\n\u001b[1;32m     34\u001b[0m \u001b[0mnn_sorted\u001b[0m \u001b[0;34m=\u001b[0m \u001b[0msorted\u001b[0m\u001b[0;34m(\u001b[0m\u001b[0mf\u001b[0m\u001b[0;34m[\u001b[0m\u001b[0;34m'NN'\u001b[0m\u001b[0;34m]\u001b[0m\u001b[0;34m,\u001b[0m \u001b[0mkey\u001b[0m \u001b[0;34m=\u001b[0m \u001b[0mitemgetter\u001b[0m\u001b[0;34m(\u001b[0m\u001b[0;36m1\u001b[0m\u001b[0;34m)\u001b[0m\u001b[0;34m,\u001b[0m \u001b[0mreverse\u001b[0m \u001b[0;34m=\u001b[0m \u001b[0;32mTrue\u001b[0m\u001b[0;34m)\u001b[0m\u001b[0;34m\u001b[0m\u001b[0m\n",
      "\u001b[0;32m<ipython-input-1-58b5e1b690fc>\u001b[0m in \u001b[0;36mreadFile\u001b[0;34m(path)\u001b[0m\n\u001b[1;32m      6\u001b[0m \u001b[0;34m\u001b[0m\u001b[0m\n\u001b[1;32m      7\u001b[0m \u001b[0;32mdef\u001b[0m \u001b[0mreadFile\u001b[0m\u001b[0;34m(\u001b[0m\u001b[0mpath\u001b[0m\u001b[0;34m)\u001b[0m\u001b[0;34m:\u001b[0m\u001b[0;34m\u001b[0m\u001b[0m\n\u001b[0;32m----> 8\u001b[0;31m     \u001b[0mf\u001b[0m \u001b[0;34m=\u001b[0m \u001b[0mopen\u001b[0m\u001b[0;34m(\u001b[0m\u001b[0mpath\u001b[0m\u001b[0;34m)\u001b[0m\u001b[0;34m\u001b[0m\u001b[0m\n\u001b[0m\u001b[1;32m      9\u001b[0m     \u001b[0md\u001b[0m \u001b[0;34m=\u001b[0m \u001b[0;34m{\u001b[0m\u001b[0;34m}\u001b[0m\u001b[0;34m\u001b[0m\u001b[0m\n\u001b[1;32m     10\u001b[0m     \u001b[0mse\u001b[0m \u001b[0;34m=\u001b[0m \u001b[0mset\u001b[0m\u001b[0;34m(\u001b[0m\u001b[0;34m)\u001b[0m\u001b[0;34m\u001b[0m\u001b[0m\n",
      "\u001b[0;31mFileNotFoundError\u001b[0m: [Errno 2] No such file or directory: '/home/duke/Dropbox/bla/Studium/Softwareprojekt/Resources/SentiWS/SentiWS_v1.8c_Negative.txt'"
     ]
    }
   ],
   "source": [
    "from operator import itemgetter\n",
    "#Extracting Words from SentiWS\n",
    "\n",
    "path = './SentiWS_v1.8c_Negative.txt'\n",
    "output= './output/'\n",
    "\n",
    "def readFile(path):\n",
    "    f = open(path)\n",
    "    d = {}\n",
    "    se = set()\n",
    "    d['NN'] = []\n",
    "    d['ADJX'] = []\n",
    "    d['VVINF'] = []\n",
    "    d['ADV'] = []\n",
    "    lines = f.readlines()\n",
    "    for l in lines:\n",
    "        split = l.split('\\t')\n",
    "        s = split[0].split('|')\n",
    "    \n",
    "        if(s[1] == 'NN'):\n",
    "            d['NN'].append(split)\n",
    "        elif(s[1] == 'ADJX'):\n",
    "            d['ADJX'].append(split)\n",
    "        elif(s[1] == 'VVINF'):\n",
    "            d['VVINF'].append(split)\n",
    "        elif(s[1] == 'ADV'):\n",
    "            d['ADV'].append(split)\n",
    "    f.close()\n",
    "    return d\n",
    "\n",
    "        \n",
    "f = readFile(path)\n",
    "\n",
    "nn_sorted = sorted(f['NN'], key = itemgetter(1), reverse = True)\n",
    "v_sorted = sorted(f['VVINF'], key = itemgetter(1), reverse = True)\n",
    "adj_sorted = sorted(f['ADJX'], key = itemgetter(1), reverse = True)\n",
    "adv_sorted = sorted(f['ADV'], key = itemgetter(1), reverse = True)\n",
    "\n",
    "print(len(nn_sorted))\n",
    "print(len(v_sorted))\n",
    "print(len(adj_sorted))\n",
    "print(len(adv_sorted))"
   ]
  },
  {
   "cell_type": "code",
   "execution_count": 7,
   "metadata": {},
   "outputs": [],
   "source": [
    "fw = open(output+'baselist.txt', 'w+')\n",
    "for i in range(400):\n",
    "    fw.write(nn_sorted[i][0]+'\\n')\n",
    "for i in range(400):\n",
    "    fw.write(v_sorted[i][0]+'\\n')\n",
    "for i in range(400):\n",
    "    fw.write(adj_sorted[i][0]+'\\n')\n",
    "fw.close()\n",
    "\n",
    "fw2 = open(output+'baselist_unsorted.txt', 'w+')\n",
    "for i in range(400):\n",
    "    fw2.write(f['NN'][i][0]+'\\n')\n",
    "for i in range(400):\n",
    "    fw2.write(f['VVINF'][i][0]+'\\n')\n",
    "for i in range(400):\n",
    "    fw2.write(f['ADJX'][i][0]+'\\n')\n",
    "fw2.close()"
   ]
  },
  {
   "cell_type": "code",
   "execution_count": null,
   "metadata": {},
   "outputs": [],
   "source": []
  }
 ],
 "metadata": {
  "kernelspec": {
   "display_name": "Python 3",
   "language": "python",
   "name": "python3"
  },
  "language_info": {
   "codemirror_mode": {
    "name": "ipython",
    "version": 3
   },
   "file_extension": ".py",
   "mimetype": "text/x-python",
   "name": "python",
   "nbconvert_exporter": "python",
   "pygments_lexer": "ipython3",
   "version": "3.6.5"
  }
 },
 "nbformat": 4,
 "nbformat_minor": 2
}
